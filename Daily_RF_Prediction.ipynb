{
  "nbformat": 4,
  "nbformat_minor": 0,
  "metadata": {
    "colab": {
      "name": "Daily RF Prediction.ipynb",
      "provenance": [],
      "collapsed_sections": [],
      "include_colab_link": true
    },
    "kernelspec": {
      "name": "python3",
      "display_name": "Python 3"
    },
    "accelerator": "TPU"
  },
  "cells": [
    {
      "cell_type": "markdown",
      "metadata": {
        "id": "view-in-github",
        "colab_type": "text"
      },
      "source": [
        "<a href=\"https://colab.research.google.com/github/FunminiyiO/Arduino/blob/master/Daily_RF_Prediction.ipynb\" target=\"_parent\"><img src=\"https://colab.research.google.com/assets/colab-badge.svg\" alt=\"Open In Colab\"/></a>"
      ]
    },
    {
      "cell_type": "code",
      "metadata": {
        "id": "0UqbMxbAdiQX",
        "colab_type": "code",
        "colab": {}
      },
      "source": [
        "import pandas as pd\n",
        "import numpy as np \n",
        "import matplotlib.pyplot as plt \n",
        "import seaborn as sns\n",
        "plt.style.use('fivethirtyeight')#\n",
        "from statsmodels.tsa.arima_model import ARIMA\n",
        "from statsmodels.tsa.stattools import adfuller, acf, pacf\n",
        "from statsmodels.graphics.tsaplots import plot_acf, plot_pacf\n",
        "import warnings\n",
        "warnings.filterwarnings('ignore')\n",
        "%matplotlib inline"
      ],
      "execution_count": 0,
      "outputs": []
    },
    {
      "cell_type": "code",
      "metadata": {
        "id": "TSIkPquWdzjQ",
        "colab_type": "code",
        "colab": {}
      },
      "source": [
        "data = pd.read_csv('/Users/HP/Desktop/Folders/Work in Progress/DSN Work/AGRO AI/Weather data/Weather Data/Project Datasets/rain_cated_2.csv')"
      ],
      "execution_count": 0,
      "outputs": []
    },
    {
      "cell_type": "code",
      "metadata": {
        "id": "-TOpeGQpr_JC",
        "colab_type": "code",
        "colab": {}
      },
      "source": [
        ""
      ],
      "execution_count": 0,
      "outputs": []
    },
    {
      "cell_type": "code",
      "metadata": {
        "id": "6njmp-kdd9G0",
        "colab_type": "code",
        "outputId": "6bcd896c-200a-4be7-f3ab-fea2e568ae2b",
        "colab": {
          "base_uri": "https://localhost:8080/",
          "height": 204
        }
      },
      "source": [
        "data.head()"
      ],
      "execution_count": 3,
      "outputs": [
        {
          "output_type": "execute_result",
          "data": {
            "text/plain": [
              "   temp  hum  dp  press  cat\n",
              "0     2    4   3      3    0\n",
              "1     1    5   3      4    0\n",
              "2     1    5   3      3    0\n",
              "3     1    5   3      3    0\n",
              "4     1    5   3      3    0"
            ],
            "text/html": [
              "<div>\n",
              "<style scoped>\n",
              "    .dataframe tbody tr th:only-of-type {\n",
              "        vertical-align: middle;\n",
              "    }\n",
              "\n",
              "    .dataframe tbody tr th {\n",
              "        vertical-align: top;\n",
              "    }\n",
              "\n",
              "    .dataframe thead th {\n",
              "        text-align: right;\n",
              "    }\n",
              "</style>\n",
              "<table border=\"1\" class=\"dataframe\">\n",
              "  <thead>\n",
              "    <tr style=\"text-align: right;\">\n",
              "      <th></th>\n",
              "      <th>temp</th>\n",
              "      <th>hum</th>\n",
              "      <th>dp</th>\n",
              "      <th>press</th>\n",
              "      <th>cat</th>\n",
              "    </tr>\n",
              "  </thead>\n",
              "  <tbody>\n",
              "    <tr>\n",
              "      <th>0</th>\n",
              "      <td>2</td>\n",
              "      <td>4</td>\n",
              "      <td>3</td>\n",
              "      <td>3</td>\n",
              "      <td>0</td>\n",
              "    </tr>\n",
              "    <tr>\n",
              "      <th>1</th>\n",
              "      <td>1</td>\n",
              "      <td>5</td>\n",
              "      <td>3</td>\n",
              "      <td>4</td>\n",
              "      <td>0</td>\n",
              "    </tr>\n",
              "    <tr>\n",
              "      <th>2</th>\n",
              "      <td>1</td>\n",
              "      <td>5</td>\n",
              "      <td>3</td>\n",
              "      <td>3</td>\n",
              "      <td>0</td>\n",
              "    </tr>\n",
              "    <tr>\n",
              "      <th>3</th>\n",
              "      <td>1</td>\n",
              "      <td>5</td>\n",
              "      <td>3</td>\n",
              "      <td>3</td>\n",
              "      <td>0</td>\n",
              "    </tr>\n",
              "    <tr>\n",
              "      <th>4</th>\n",
              "      <td>1</td>\n",
              "      <td>5</td>\n",
              "      <td>3</td>\n",
              "      <td>3</td>\n",
              "      <td>0</td>\n",
              "    </tr>\n",
              "  </tbody>\n",
              "</table>\n",
              "</div>"
            ]
          },
          "metadata": {
            "tags": []
          },
          "execution_count": 3
        }
      ]
    },
    {
      "cell_type": "code",
      "metadata": {
        "id": "Q1s8ihGteF0z",
        "colab_type": "code",
        "colab": {}
      },
      "source": [
        "#data = data.drop(\"cat\", 1)"
      ],
      "execution_count": 0,
      "outputs": []
    },
    {
      "cell_type": "code",
      "metadata": {
        "id": "jy3r_3ztvg0k",
        "colab_type": "code",
        "colab": {}
      },
      "source": [
        "data['1'] = round(30 + ((data['temp']) -  2 *(data['dp'])), 0)\n",
        "data['3'] = round(30 + ((data['press']) - (1.2*data['temp'])), 0)\n",
        "data['4'] =  round(((data['press']) + (1.2*(data['dp']))), 0)\n",
        "data['5'] = round(20 + ((data['4']) - data['3'])/2, 0)\n",
        "data['6'] = round(-1*((data['dp']) - data['1'])/2, 0)"
      ],
      "execution_count": 0,
      "outputs": []
    },
    {
      "cell_type": "code",
      "metadata": {
        "id": "5XA9-3iogRE5",
        "colab_type": "code",
        "outputId": "b366c8f7-4111-4bd9-93b9-4d726b109a62",
        "colab": {
          "base_uri": "https://localhost:8080/",
          "height": 279
        }
      },
      "source": [
        "sns.heatmap(data.corr(), annot=True)"
      ],
      "execution_count": 6,
      "outputs": [
        {
          "output_type": "execute_result",
          "data": {
            "text/plain": [
              "<matplotlib.axes._subplots.AxesSubplot at 0xd367af0>"
            ]
          },
          "metadata": {
            "tags": []
          },
          "execution_count": 6
        },
        {
          "output_type": "display_data",
          "data": {
            "text/plain": [
              "<Figure size 432x288 with 2 Axes>"
            ],
            "image/png": "[encoded data removed]"
          },
          "metadata": {
            "tags": [],
            "needs_background": "light"
          }
        }
      ]
    },
    {
      "cell_type": "code",
      "metadata": {
        "id": "gagMkBRUA8SX",
        "colab_type": "code",
        "colab": {
          "base_uri": "https://localhost:8080/",
          "height": 204
        },
        "outputId": "d0aaca32-6eb8-4341-ac0c-43c9504dac40"
      },
      "source": [
        "data['6'].value_counts()"
      ],
      "execution_count": 7,
      "outputs": [
        {
          "output_type": "execute_result",
          "data": {
            "text/plain": [
              "12.0    1612\n",
              "11.0     635\n",
              "10.0     601\n",
              "14.0     301\n",
              "13.0     168\n",
              "9.0       65\n",
              "8.0       45\n",
              "16.0      15\n",
              "15.0       4\n",
              "18.0       3\n",
              "Name: 6, dtype: int64"
            ]
          },
          "metadata": {
            "tags": []
          },
          "execution_count": 7
        }
      ]
    },
    {
      "cell_type": "code",
      "metadata": {
        "id": "jtrDGAUjBWMB",
        "colab_type": "code",
        "colab": {}
      },
      "source": [
        "target = data['cat'] "
      ],
      "execution_count": 0,
      "outputs": []
    },
    {
      "cell_type": "code",
      "metadata": {
        "id": "jR7ugsxLej8M",
        "colab_type": "code",
        "colab": {}
      },
      "source": [
        "data = data.drop(\"cat\", 1)"
      ],
      "execution_count": 0,
      "outputs": []
    },
    {
      "cell_type": "code",
      "metadata": {
        "id": "yZxcKVSK_WzZ",
        "colab_type": "code",
        "colab": {}
      },
      "source": [
        "x = data\n",
        "y = target\n",
        "\n",
        "from imblearn.over_sampling import SMOTE, ADASYN\n",
        "x_resampled, y_resampled = SMOTE().fit_resample(x, y)\n",
        "x = x_resampled\n",
        "target = y_resampled"
      ],
      "execution_count": 0,
      "outputs": []
    },
    {
      "cell_type": "code",
      "metadata": {
        "id": "_zgJqNGv_44x",
        "colab_type": "code",
        "colab": {
          "base_uri": "https://localhost:8080/",
          "height": 224
        },
        "outputId": "e7996fd9-190a-4938-8a90-6861fda52d2d"
      },
      "source": [
        "plt.figure(figsize=(3,3))\n",
        "sns.countplot(target)"
      ],
      "execution_count": 11,
      "outputs": [
        {
          "output_type": "execute_result",
          "data": {
            "text/plain": [
              "<matplotlib.axes._subplots.AxesSubplot at 0xd4ef310>"
            ]
          },
          "metadata": {
            "tags": []
          },
          "execution_count": 11
        },
        {
          "output_type": "display_data",
          "data": {
            "text/plain": [
              "<Figure size 216x216 with 1 Axes>"
            ],
            "image/png": "[encoded data removed]"
          },
          "metadata": {
            "tags": [],
            "needs_background": "light"
          }
        }
      ]
    },
    {
      "cell_type": "code",
      "metadata": {
        "id": "DhwHQ4mpenvW",
        "colab_type": "code",
        "outputId": "165557df-eb62-42af-96a7-c6d8ff770b97",
        "colab": {
          "base_uri": "https://localhost:8080/",
          "height": 204
        }
      },
      "source": [
        "data.head()"
      ],
      "execution_count": 12,
      "outputs": [
        {
          "output_type": "execute_result",
          "data": {
            "text/plain": [
              "   temp  hum  dp  press   1     3    4    5     6\n",
              "0     2    4   3      3  26  31.0  7.0  8.0  12.0\n",
              "1     1    5   3      4  25  33.0  8.0  8.0  11.0\n",
              "2     1    5   3      3  25  32.0  7.0  8.0  11.0\n",
              "3     1    5   3      3  25  32.0  7.0  8.0  11.0\n",
              "4     1    5   3      3  25  32.0  7.0  8.0  11.0"
            ],
            "text/html": [
              "<div>\n",
              "<style scoped>\n",
              "    .dataframe tbody tr th:only-of-type {\n",
              "        vertical-align: middle;\n",
              "    }\n",
              "\n",
              "    .dataframe tbody tr th {\n",
              "        vertical-align: top;\n",
              "    }\n",
              "\n",
              "    .dataframe thead th {\n",
              "        text-align: right;\n",
              "    }\n",
              "</style>\n",
              "<table border=\"1\" class=\"dataframe\">\n",
              "  <thead>\n",
              "    <tr style=\"text-align: right;\">\n",
              "      <th></th>\n",
              "      <th>temp</th>\n",
              "      <th>hum</th>\n",
              "      <th>dp</th>\n",
              "      <th>press</th>\n",
              "      <th>1</th>\n",
              "      <th>3</th>\n",
              "      <th>4</th>\n",
              "      <th>5</th>\n",
              "      <th>6</th>\n",
              "    </tr>\n",
              "  </thead>\n",
              "  <tbody>\n",
              "    <tr>\n",
              "      <th>0</th>\n",
              "      <td>2</td>\n",
              "      <td>4</td>\n",
              "      <td>3</td>\n",
              "      <td>3</td>\n",
              "      <td>26</td>\n",
              "      <td>31.0</td>\n",
              "      <td>7.0</td>\n",
              "      <td>8.0</td>\n",
              "      <td>12.0</td>\n",
              "    </tr>\n",
              "    <tr>\n",
              "      <th>1</th>\n",
              "      <td>1</td>\n",
              "      <td>5</td>\n",
              "      <td>3</td>\n",
              "      <td>4</td>\n",
              "      <td>25</td>\n",
              "      <td>33.0</td>\n",
              "      <td>8.0</td>\n",
              "      <td>8.0</td>\n",
              "      <td>11.0</td>\n",
              "    </tr>\n",
              "    <tr>\n",
              "      <th>2</th>\n",
              "      <td>1</td>\n",
              "      <td>5</td>\n",
              "      <td>3</td>\n",
              "      <td>3</td>\n",
              "      <td>25</td>\n",
              "      <td>32.0</td>\n",
              "      <td>7.0</td>\n",
              "      <td>8.0</td>\n",
              "      <td>11.0</td>\n",
              "    </tr>\n",
              "    <tr>\n",
              "      <th>3</th>\n",
              "      <td>1</td>\n",
              "      <td>5</td>\n",
              "      <td>3</td>\n",
              "      <td>3</td>\n",
              "      <td>25</td>\n",
              "      <td>32.0</td>\n",
              "      <td>7.0</td>\n",
              "      <td>8.0</td>\n",
              "      <td>11.0</td>\n",
              "    </tr>\n",
              "    <tr>\n",
              "      <th>4</th>\n",
              "      <td>1</td>\n",
              "      <td>5</td>\n",
              "      <td>3</td>\n",
              "      <td>3</td>\n",
              "      <td>25</td>\n",
              "      <td>32.0</td>\n",
              "      <td>7.0</td>\n",
              "      <td>8.0</td>\n",
              "      <td>11.0</td>\n",
              "    </tr>\n",
              "  </tbody>\n",
              "</table>\n",
              "</div>"
            ]
          },
          "metadata": {
            "tags": []
          },
          "execution_count": 12
        }
      ]
    },
    {
      "cell_type": "code",
      "metadata": {
        "id": "lFNSdItyeoju",
        "colab_type": "code",
        "colab": {}
      },
      "source": [
        "from sklearn.model_selection import train_test_split\n",
        "xTrain, xTest, yTrain, yTest = train_test_split(x, target, test_size = 0.1, random_state = 0)"
      ],
      "execution_count": 0,
      "outputs": []
    },
    {
      "cell_type": "code",
      "metadata": {
        "id": "ACXVvS4ue_B1",
        "colab_type": "code",
        "colab": {}
      },
      "source": [
        "# from sklearn.preprocessing import MinMaxScaler\n",
        "# scaler = MinMaxScaler()\n",
        "# xTrain = scaler.fit_transform(xTrain)\n",
        "# xTest = scaler.fit_transform(xTest)"
      ],
      "execution_count": 0,
      "outputs": []
    },
    {
      "cell_type": "code",
      "metadata": {
        "id": "O6qkWVJwnoKp",
        "colab_type": "code",
        "outputId": "6c895636-df3b-4c2c-f7b0-5d3fdb518f30",
        "colab": {
          "base_uri": "https://localhost:8080/",
          "height": 279
        }
      },
      "source": [
        "sns.heatmap(data.corr(), annot=True)"
      ],
      "execution_count": 15,
      "outputs": [
        {
          "output_type": "execute_result",
          "data": {
            "text/plain": [
              "<matplotlib.axes._subplots.AxesSubplot at 0xec78250>"
            ]
          },
          "metadata": {
            "tags": []
          },
          "execution_count": 15
        },
        {
          "output_type": "display_data",
          "data": {
            "text/plain": [
              "<Figure size 432x288 with 2 Axes>"
            ],
            "image/png": "[encoded data removed]"
          },
          "metadata": {
            "tags": [],
            "needs_background": "light"
          }
        }
      ]
    },
    {
      "cell_type": "code",
      "metadata": {
        "id": "ZMnylADnj_43",
        "colab_type": "code",
        "colab": {}
      },
      "source": [
        "from sklearn.metrics import roc_auc_score,f1_score ,accuracy_score,precision_score,recall_score,confusion_matrix,classification_report"
      ],
      "execution_count": 0,
      "outputs": []
    },
    {
      "cell_type": "markdown",
      "metadata": {
        "id": "9xizuVfGpbDF",
        "colab_type": "text"
      },
      "source": [
        "# KNN\n"
      ]
    },
    {
      "cell_type": "code",
      "metadata": {
        "id": "oclA-jo1fD7s",
        "colab_type": "code",
        "outputId": "8b428a65-872f-473b-d62a-c59cba064f7c",
        "colab": {
          "base_uri": "https://localhost:8080/",
          "height": 289
        }
      },
      "source": [
        "from sklearn.neighbors import KNeighborsClassifier\n",
        "model1 = KNeighborsClassifier(n_neighbors=26) # 1-26\n",
        "from sklearn.model_selection import GridSearchCV\n",
        "param_grid = { \n",
        "    'n_neighbors': [26, 100,200],\n",
        "    # 'max_features': ['auto', 'sqrt', 'log2'],\n",
        "    # 'max_depth' : [5,6,7,8,9],\n",
        "    # 'criterion' :['gini', 'entropy']\n",
        "}\n",
        "grid_search = GridSearchCV(model1, param_grid, cv=5, verbose=4, n_jobs=-1)\n",
        "model1 = grid_search.fit(xTrain, yTrain)\n",
        "\n",
        "y_pred= model1.predict(xTest)\n",
        "print(confusion_matrix(yTest,y_pred))\n",
        "print(classification_report(yTest,y_pred))\n",
        "print(accuracy_score(yTest,y_pred))"
      ],
      "execution_count": 17,
      "outputs": [
        {
          "output_type": "stream",
          "text": [
            "Fitting 5 folds for each of 3 candidates, totalling 15 fits\n"
          ],
          "name": "stdout"
        },
        {
          "output_type": "stream",
          "text": [
            "[Parallel(n_jobs=-1)]: Using backend LokyBackend with 4 concurrent workers.\n"
          ],
          "name": "stderr"
        },
        {
          "output_type": "stream",
          "text": [
            "[[148  37]\n",
            " [ 42 121]]\n",
            "              precision    recall  f1-score   support\n",
            "\n",
            "           0       0.78      0.80      0.79       185\n",
            "           1       0.77      0.74      0.75       163\n",
            "\n",
            "    accuracy                           0.77       348\n",
            "   macro avg       0.77      0.77      0.77       348\n",
            "weighted avg       0.77      0.77      0.77       348\n",
            "\n",
            "0.7729885057471264\n"
          ],
          "name": "stdout"
        },
        {
          "output_type": "stream",
          "text": [
            "[Parallel(n_jobs=-1)]: Done  12 out of  15 | elapsed:    2.9s remaining:    0.7s\n",
            "[Parallel(n_jobs=-1)]: Done  15 out of  15 | elapsed:    3.0s finished\n"
          ],
          "name": "stderr"
        }
      ]
    },
    {
      "cell_type": "markdown",
      "metadata": {
        "id": "tXiHstH7qjSP",
        "colab_type": "text"
      },
      "source": [
        "# GBoost"
      ]
    },
    {
      "cell_type": "code",
      "metadata": {
        "id": "l0t8uyWzqFsb",
        "colab_type": "code",
        "outputId": "49d42439-8bfb-4893-a604-b234fccd69e9",
        "colab": {
          "base_uri": "https://localhost:8080/",
          "height": 119
        }
      },
      "source": [
        "from sklearn.ensemble import GradientBoostingClassifier\n",
        "model2 = GradientBoostingClassifier(n_estimators=150,max_features='auto',max_depth=8,learning_rate=0.08,random_state=5)\n",
        "from sklearn.model_selection import GridSearchCV\n",
        "param_grid = { \n",
        "    'n_estimators': [30,40],\n",
        "    'max_features': ['auto', 'sqrt', 'log2'],\n",
        "    'max_depth' : [6],\n",
        "    # 'criterion' :['gini', 'entropy']\n",
        "}\n",
        "grid_search = GridSearchCV(model2, param_grid, cv=5, verbose=4, n_jobs=-1)\n",
        "model2 = grid_search.fit(xTrain, yTrain)\n",
        "\n",
        "print(grid_search.best_params_)\n",
        "print(grid_search.best_score_)"
      ],
      "execution_count": 18,
      "outputs": [
        {
          "output_type": "stream",
          "text": [
            "Fitting 5 folds for each of 6 candidates, totalling 30 fits\n"
          ],
          "name": "stdout"
        },
        {
          "output_type": "stream",
          "text": [
            "[Parallel(n_jobs=-1)]: Using backend LokyBackend with 4 concurrent workers.\n",
            "[Parallel(n_jobs=-1)]: Done  17 tasks      | elapsed:    4.1s\n",
            "[Parallel(n_jobs=-1)]: Done  30 out of  30 | elapsed:    5.0s finished\n"
          ],
          "name": "stderr"
        },
        {
          "output_type": "stream",
          "text": [
            "{'max_depth': 6, 'max_features': 'sqrt', 'n_estimators': 40}\n",
            "0.7694763729246488\n"
          ],
          "name": "stdout"
        }
      ]
    },
    {
      "cell_type": "code",
      "metadata": {
        "id": "eht3dRDxqG5L",
        "colab_type": "code",
        "outputId": "d3ff4d63-7ed6-4e98-ab6c-8a8d07276eff",
        "colab": {
          "base_uri": "https://localhost:8080/",
          "height": 221
        }
      },
      "source": [
        "y_pred= model2.predict(xTest)\n",
        "print(confusion_matrix(yTest,y_pred))\n",
        "print(classification_report(yTest,y_pred))\n",
        "print(accuracy_score(yTest,y_pred))"
      ],
      "execution_count": 19,
      "outputs": [
        {
          "output_type": "stream",
          "text": [
            "[[149  36]\n",
            " [ 36 127]]\n",
            "              precision    recall  f1-score   support\n",
            "\n",
            "           0       0.81      0.81      0.81       185\n",
            "           1       0.78      0.78      0.78       163\n",
            "\n",
            "    accuracy                           0.79       348\n",
            "   macro avg       0.79      0.79      0.79       348\n",
            "weighted avg       0.79      0.79      0.79       348\n",
            "\n",
            "0.7931034482758621\n"
          ],
          "name": "stdout"
        }
      ]
    },
    {
      "cell_type": "markdown",
      "metadata": {
        "id": "ea_V8GeEtNkN",
        "colab_type": "text"
      },
      "source": [
        "# ADABoost"
      ]
    },
    {
      "cell_type": "code",
      "metadata": {
        "id": "cfhmbrSIqG8E",
        "colab_type": "code",
        "colab": {}
      },
      "source": [
        "from sklearn.ensemble import AdaBoostClassifier\n",
        "from sklearn.tree import DecisionTreeClassifier"
      ],
      "execution_count": 0,
      "outputs": []
    },
    {
      "cell_type": "code",
      "metadata": {
        "id": "qikdtghpqG-4",
        "colab_type": "code",
        "outputId": "1d1342ce-66d6-4e7b-8905-8356f7404756",
        "colab": {
          "base_uri": "https://localhost:8080/",
          "height": 136
        }
      },
      "source": [
        "model3 = AdaBoostClassifier(\n",
        "    DecisionTreeClassifier(max_depth=1),\n",
        "    n_estimators=100\n",
        ")\n",
        "from sklearn.model_selection import GridSearchCV\n",
        "param_grid = { \n",
        "    'n_estimators': [350,400,450],\n",
        "    # 'max_features': ['auto', 'sqrt', 'log2'],\n",
        "    # 'max_depth' : [5,6,7,8,9],\n",
        "    # 'criterion' :['gini', 'entropy']\n",
        "}\n",
        "grid_search = GridSearchCV(model3, param_grid, cv=6, verbose=5, n_jobs=-1)\n",
        "model3 = grid_search.fit(xTrain, yTrain)\n",
        "\n",
        "print(grid_search.best_params_)\n",
        "print(grid_search.best_score_)\n"
      ],
      "execution_count": 21,
      "outputs": [
        {
          "output_type": "stream",
          "text": [
            "Fitting 6 folds for each of 3 candidates, totalling 18 fits\n"
          ],
          "name": "stdout"
        },
        {
          "output_type": "stream",
          "text": [
            "[Parallel(n_jobs=-1)]: Using backend LokyBackend with 4 concurrent workers.\n",
            "[Parallel(n_jobs=-1)]: Done  10 tasks      | elapsed:    8.1s\n",
            "[Parallel(n_jobs=-1)]: Done  15 out of  18 | elapsed:   10.7s remaining:    2.1s\n",
            "[Parallel(n_jobs=-1)]: Done  18 out of  18 | elapsed:   11.6s finished\n"
          ],
          "name": "stderr"
        },
        {
          "output_type": "stream",
          "text": [
            "{'n_estimators': 450}\n",
            "0.7659642401021711\n"
          ],
          "name": "stdout"
        }
      ]
    },
    {
      "cell_type": "code",
      "metadata": {
        "id": "X2DzZAq0qHB4",
        "colab_type": "code",
        "outputId": "7b04a78e-a4de-4adb-a1db-8af458c8d91a",
        "colab": {
          "base_uri": "https://localhost:8080/",
          "height": 221
        }
      },
      "source": [
        "y_pred= model3.predict(xTest)\n",
        "print(confusion_matrix(yTest,y_pred))\n",
        "print(classification_report(yTest,y_pred))\n",
        "print(accuracy_score(yTest,y_pred))"
      ],
      "execution_count": 22,
      "outputs": [
        {
          "output_type": "stream",
          "text": [
            "[[151  34]\n",
            " [ 43 120]]\n",
            "              precision    recall  f1-score   support\n",
            "\n",
            "           0       0.78      0.82      0.80       185\n",
            "           1       0.78      0.74      0.76       163\n",
            "\n",
            "    accuracy                           0.78       348\n",
            "   macro avg       0.78      0.78      0.78       348\n",
            "weighted avg       0.78      0.78      0.78       348\n",
            "\n",
            "0.7787356321839081\n"
          ],
          "name": "stdout"
        }
      ]
    },
    {
      "cell_type": "markdown",
      "metadata": {
        "id": "LVr5UeAlxOSJ",
        "colab_type": "text"
      },
      "source": [
        "# RF"
      ]
    },
    {
      "cell_type": "code",
      "metadata": {
        "id": "8uK_OVBIqHMO",
        "colab_type": "code",
        "colab": {}
      },
      "source": [
        "from sklearn.ensemble import RandomForestClassifier\n",
        "model4 = RandomForestClassifier(n_estimators=92, random_state=0,max_depth=9,max_features=8,min_samples_leaf=4,min_samples_split=6,bootstrap=False)\n",
        "model4 = model4.fit(xTrain, yTrain)"
      ],
      "execution_count": 0,
      "outputs": []
    },
    {
      "cell_type": "code",
      "metadata": {
        "id": "ZLUj0Uo7xIyx",
        "colab_type": "code",
        "outputId": "87438b79-9380-40b4-a91f-f3720038e622",
        "colab": {
          "base_uri": "https://localhost:8080/",
          "height": 221
        }
      },
      "source": [
        "y_pred= model4.predict(xTest)\n",
        "print(confusion_matrix(yTest,y_pred))\n",
        "print(classification_report(yTest,y_pred))\n",
        "print(accuracy_score(yTest,y_pred))"
      ],
      "execution_count": 24,
      "outputs": [
        {
          "output_type": "stream",
          "text": [
            "[[150  35]\n",
            " [ 35 128]]\n",
            "              precision    recall  f1-score   support\n",
            "\n",
            "           0       0.81      0.81      0.81       185\n",
            "           1       0.79      0.79      0.79       163\n",
            "\n",
            "    accuracy                           0.80       348\n",
            "   macro avg       0.80      0.80      0.80       348\n",
            "weighted avg       0.80      0.80      0.80       348\n",
            "\n",
            "0.7988505747126436\n"
          ],
          "name": "stdout"
        }
      ]
    },
    {
      "cell_type": "markdown",
      "metadata": {
        "id": "vseF6vVUyl_A",
        "colab_type": "text"
      },
      "source": [
        "# LR"
      ]
    },
    {
      "cell_type": "code",
      "metadata": {
        "id": "I1qLwEQPxIv9",
        "colab_type": "code",
        "colab": {}
      },
      "source": [
        "from sklearn.linear_model import LogisticRegression"
      ],
      "execution_count": 0,
      "outputs": []
    },
    {
      "cell_type": "code",
      "metadata": {
        "id": "9CFf_p25xIrP",
        "colab_type": "code",
        "outputId": "1c1fe802-d5cd-429b-b1d3-a2d9019bf35c",
        "colab": {
          "base_uri": "https://localhost:8080/",
          "height": 102
        }
      },
      "source": [
        "model5 = LogisticRegression(random_state=42,C=1000)\n",
        "model5.fit(xTrain,yTrain)"
      ],
      "execution_count": 26,
      "outputs": [
        {
          "output_type": "execute_result",
          "data": {
            "text/plain": [
              "LogisticRegression(C=1000, class_weight=None, dual=False, fit_intercept=True,\n",
              "                   intercept_scaling=1, l1_ratio=None, max_iter=100,\n",
              "                   multi_class='warn', n_jobs=None, penalty='l2',\n",
              "                   random_state=42, solver='warn', tol=0.0001, verbose=0,\n",
              "                   warm_start=False)"
            ]
          },
          "metadata": {
            "tags": []
          },
          "execution_count": 26
        }
      ]
    },
    {
      "cell_type": "code",
      "metadata": {
        "id": "-Pyll-H8qHJz",
        "colab_type": "code",
        "outputId": "1215e8e3-00b4-4617-d233-8b7b83187a25",
        "colab": {
          "base_uri": "https://localhost:8080/",
          "height": 221
        }
      },
      "source": [
        "y_pred= model5.predict(xTest)\n",
        "print(confusion_matrix(yTest,y_pred))\n",
        "print(classification_report(yTest,y_pred))\n",
        "print(accuracy_score(yTest,y_pred))"
      ],
      "execution_count": 27,
      "outputs": [
        {
          "output_type": "stream",
          "text": [
            "[[146  39]\n",
            " [ 38 125]]\n",
            "              precision    recall  f1-score   support\n",
            "\n",
            "           0       0.79      0.79      0.79       185\n",
            "           1       0.76      0.77      0.76       163\n",
            "\n",
            "    accuracy                           0.78       348\n",
            "   macro avg       0.78      0.78      0.78       348\n",
            "weighted avg       0.78      0.78      0.78       348\n",
            "\n",
            "0.7787356321839081\n"
          ],
          "name": "stdout"
        }
      ]
    },
    {
      "cell_type": "markdown",
      "metadata": {
        "id": "Z26repzo0Vs-",
        "colab_type": "text"
      },
      "source": [
        "# SVC"
      ]
    },
    {
      "cell_type": "code",
      "metadata": {
        "id": "tcj6Jbn1qHHK",
        "colab_type": "code",
        "outputId": "93504a9e-c7b7-430e-ec22-8442ce6d1cea",
        "colab": {
          "base_uri": "https://localhost:8080/",
          "height": 85
        }
      },
      "source": [
        "from sklearn.svm import SVC\n",
        "model6 = SVC(C=5.0, cache_size=400, class_weight=None, coef0=0.0,\n",
        "    decision_function_shape='ovr', degree=5, gamma='auto_deprecated',\n",
        "    kernel='linear', max_iter=-1, probability=True, random_state=None,\n",
        "    shrinking=True, tol=0.001, verbose=False)\n",
        "model6.fit(xTrain,yTrain)"
      ],
      "execution_count": 28,
      "outputs": [
        {
          "output_type": "execute_result",
          "data": {
            "text/plain": [
              "SVC(C=5.0, cache_size=400, class_weight=None, coef0=0.0,\n",
              "    decision_function_shape='ovr', degree=5, gamma='auto_deprecated',\n",
              "    kernel='linear', max_iter=-1, probability=True, random_state=None,\n",
              "    shrinking=True, tol=0.001, verbose=False)"
            ]
          },
          "metadata": {
            "tags": []
          },
          "execution_count": 28
        }
      ]
    },
    {
      "cell_type": "code",
      "metadata": {
        "id": "cN9UC6w40U-Q",
        "colab_type": "code",
        "outputId": "a6bf1f7b-2145-4afe-bfd3-fd67d28faf63",
        "colab": {
          "base_uri": "https://localhost:8080/",
          "height": 221
        }
      },
      "source": [
        "y_pred= model6.predict(xTest)\n",
        "print(confusion_matrix(yTest,y_pred))\n",
        "print(classification_report(yTest,y_pred))\n",
        "print(accuracy_score(yTest,y_pred))"
      ],
      "execution_count": 29,
      "outputs": [
        {
          "output_type": "stream",
          "text": [
            "[[147  38]\n",
            " [ 38 125]]\n",
            "              precision    recall  f1-score   support\n",
            "\n",
            "           0       0.79      0.79      0.79       185\n",
            "           1       0.77      0.77      0.77       163\n",
            "\n",
            "    accuracy                           0.78       348\n",
            "   macro avg       0.78      0.78      0.78       348\n",
            "weighted avg       0.78      0.78      0.78       348\n",
            "\n",
            "0.7816091954022989\n"
          ],
          "name": "stdout"
        }
      ]
    },
    {
      "cell_type": "markdown",
      "metadata": {
        "id": "25zvgSjUA8-G",
        "colab_type": "text"
      },
      "source": [
        "# Naive Bayes"
      ]
    },
    {
      "cell_type": "code",
      "metadata": {
        "id": "3qOibrgK0VFJ",
        "colab_type": "code",
        "outputId": "4cd1df92-ee77-43ea-b60f-d38cccca4f16",
        "colab": {
          "base_uri": "https://localhost:8080/",
          "height": 34
        }
      },
      "source": [
        "from sklearn.naive_bayes import GaussianNB\n",
        "model7 = GaussianNB()\n",
        "model7.fit(xTrain,yTrain)"
      ],
      "execution_count": 30,
      "outputs": [
        {
          "output_type": "execute_result",
          "data": {
            "text/plain": [
              "GaussianNB(priors=None, var_smoothing=1e-09)"
            ]
          },
          "metadata": {
            "tags": []
          },
          "execution_count": 30
        }
      ]
    },
    {
      "cell_type": "code",
      "metadata": {
        "id": "DIiH6twO0VJF",
        "colab_type": "code",
        "outputId": "55ae97e7-81cf-4edf-f632-06c362eeb3cd",
        "colab": {
          "base_uri": "https://localhost:8080/",
          "height": 221
        }
      },
      "source": [
        "y_pred= model7.predict(xTest)\n",
        "print(confusion_matrix(yTest,y_pred))\n",
        "print(classification_report(yTest,y_pred))\n",
        "print(accuracy_score(yTest,y_pred))"
      ],
      "execution_count": 31,
      "outputs": [
        {
          "output_type": "stream",
          "text": [
            "[[155  30]\n",
            " [ 52 111]]\n",
            "              precision    recall  f1-score   support\n",
            "\n",
            "           0       0.75      0.84      0.79       185\n",
            "           1       0.79      0.68      0.73       163\n",
            "\n",
            "    accuracy                           0.76       348\n",
            "   macro avg       0.77      0.76      0.76       348\n",
            "weighted avg       0.77      0.76      0.76       348\n",
            "\n",
            "0.764367816091954\n"
          ],
          "name": "stdout"
        }
      ]
    },
    {
      "cell_type": "markdown",
      "metadata": {
        "id": "QiuViRN9CMIC",
        "colab_type": "text"
      },
      "source": [
        "# Combining\n"
      ]
    },
    {
      "cell_type": "code",
      "metadata": {
        "id": "YT1RtP2zDxxD",
        "colab_type": "code",
        "colab": {}
      },
      "source": [
        ""
      ],
      "execution_count": 0,
      "outputs": []
    },
    {
      "cell_type": "code",
      "metadata": {
        "id": "B2xjou7B0VNB",
        "colab_type": "code",
        "outputId": "e07c47c2-9776-43c8-9e11-3bb23e29b34f",
        "colab": {
          "base_uri": "https://localhost:8080/",
          "height": 578
        }
      },
      "source": [
        "from sklearn.ensemble import VotingClassifier\n",
        "# model1 = model1\n",
        "# model2 = model2\n",
        "# model3 = model3\n",
        "# model4 = model4\n",
        "# model5 = model5\n",
        "# model6 = model6\n",
        "# model7 = model7\n",
        "model = VotingClassifier(estimators=[('4', model4), ('2', model2),('6', model6)], voting='hard')\n",
        "model.fit(xTrain,yTrain)"
      ],
      "execution_count": 39,
      "outputs": [
        {
          "output_type": "stream",
          "text": [
            "Fitting 5 folds for each of 6 candidates, totalling 30 fits\n"
          ],
          "name": "stdout"
        },
        {
          "output_type": "stream",
          "text": [
            "[Parallel(n_jobs=-1)]: Using backend LokyBackend with 4 concurrent workers.\n",
            "[Parallel(n_jobs=-1)]: Done  17 tasks      | elapsed:    4.7s\n",
            "[Parallel(n_jobs=-1)]: Done  30 out of  30 | elapsed:    5.6s finished\n"
          ],
          "name": "stderr"
        },
        {
          "output_type": "execute_result",
          "data": {
            "text/plain": [
              "VotingClassifier(estimators=[('4',\n",
              "                              RandomForestClassifier(bootstrap=False,\n",
              "                                                     class_weight=None,\n",
              "                                                     criterion='gini',\n",
              "                                                     max_depth=9,\n",
              "                                                     max_features=8,\n",
              "                                                     max_leaf_nodes=None,\n",
              "                                                     min_impurity_decrease=0.0,\n",
              "                                                     min_impurity_split=None,\n",
              "                                                     min_samples_leaf=4,\n",
              "                                                     min_samples_split=6,\n",
              "                                                     min_weight_fraction_leaf=0.0,\n",
              "                                                     n_estimators=92,\n",
              "                                                     n_jobs=None,\n",
              "                                                     oob_score=False,\n",
              "                                                     random_state=0, verbose=0,\n",
              "                                                     warm_sta...\n",
              "                                           pre_dispatch='2*n_jobs', refit=True,\n",
              "                                           return_train_score=False,\n",
              "                                           scoring=None, verbose=4)),\n",
              "                             ('6',\n",
              "                              SVC(C=5.0, cache_size=400, class_weight=None,\n",
              "                                  coef0=0.0, decision_function_shape='ovr',\n",
              "                                  degree=5, gamma='auto_deprecated',\n",
              "                                  kernel='linear', max_iter=-1,\n",
              "                                  probability=True, random_state=None,\n",
              "                                  shrinking=True, tol=0.001, verbose=False))],\n",
              "                 flatten_transform=True, n_jobs=None, voting='hard',\n",
              "                 weights=None)"
            ]
          },
          "metadata": {
            "tags": []
          },
          "execution_count": 39
        }
      ]
    },
    {
      "cell_type": "code",
      "metadata": {
        "id": "SkojLMVqbv8A",
        "colab_type": "code",
        "outputId": "eb464980-53bc-4225-ffd7-f19df371a8f5",
        "colab": {
          "base_uri": "https://localhost:8080/",
          "height": 221
        }
      },
      "source": [
        "y_pred= model.predict(xTest)\n",
        "print(confusion_matrix(yTest,y_pred))\n",
        "print(classification_report(yTest,y_pred))\n",
        "print(accuracy_score(yTest,y_pred))"
      ],
      "execution_count": 40,
      "outputs": [
        {
          "output_type": "stream",
          "text": [
            "[[150  35]\n",
            " [ 36 127]]\n",
            "              precision    recall  f1-score   support\n",
            "\n",
            "           0       0.81      0.81      0.81       185\n",
            "           1       0.78      0.78      0.78       163\n",
            "\n",
            "    accuracy                           0.80       348\n",
            "   macro avg       0.80      0.79      0.80       348\n",
            "weighted avg       0.80      0.80      0.80       348\n",
            "\n",
            "0.7959770114942529\n"
          ],
          "name": "stdout"
        }
      ]
    },
    {
      "cell_type": "code",
      "metadata": {
        "id": "LZld-Qdvj6lD",
        "colab_type": "code",
        "outputId": "3106e99f-287c-4003-92ef-8830def506b4",
        "colab": {
          "base_uri": "https://localhost:8080/",
          "height": 221
        }
      },
      "source": [
        "# pred2=model2.predict(xTest)\n",
        "# pred4=model4.predict(xTest)\n",
        "# pred6=model6.predict(xTest)\n",
        "# finalpred = []\n",
        "# total_prediction = (pred2+pred4+pred6)\n",
        "# for unit in total_prediction:\n",
        "#   prediction = (unit)/3\n",
        "#   if prediction > 0:\n",
        "#     value = 1\n",
        "#     finalpred.append(value)\n",
        "#   else:\n",
        "#     other_value = 0\n",
        "#     finalpred.append(other_value)\n",
        "# y_pred = pd.DataFrame(finalpred)  \n",
        "# print(confusion_matrix(yTest,y_pred))\n",
        "# print(classification_report(yTest,y_pred))\n",
        "# print(accuracy_score(yTest,y_pred))"
      ],
      "execution_count": 38,
      "outputs": [
        {
          "output_type": "stream",
          "text": [
            "[[144  41]\n",
            " [ 32 131]]\n",
            "              precision    recall  f1-score   support\n",
            "\n",
            "           0       0.82      0.78      0.80       185\n",
            "           1       0.76      0.80      0.78       163\n",
            "\n",
            "    accuracy                           0.79       348\n",
            "   macro avg       0.79      0.79      0.79       348\n",
            "weighted avg       0.79      0.79      0.79       348\n",
            "\n",
            "0.7902298850574713\n"
          ],
          "name": "stdout"
        }
      ]
    },
    {
      "cell_type": "code",
      "metadata": {
        "id": "jXVnkZtcgimZ",
        "colab_type": "code",
        "colab": {}
      },
      "source": [
        ""
      ],
      "execution_count": 0,
      "outputs": []
    }
  ]
}